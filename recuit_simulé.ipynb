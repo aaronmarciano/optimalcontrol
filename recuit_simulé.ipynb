{
 "cells": [
  {
   "cell_type": "markdown",
   "metadata": {},
   "source": [
    "## Algorithme du recuit simulé\n",
    "\n",
    "Dans cette partie, nous calculons une stratégie optimale en utilisant une algorithme de recuit simulé. Le principe de cet algorithme est inspiré de la métallurgie : on alterne des cycles de chauffage et de refroidissement afin de minimiser l'énergie du matériau.\n",
    "\n",
    "Dans notre cas, le rôle de l'énergie est joué par le nombre de morts. On cherche les couples (n(t),η(t))  qui permettent de le minimiser. On a vu en utilisant le principe du maximum de Pontryagin (voir article) que le contrôle otpimal est de type bang bang. Les couples η, n sont donc à valeurs sur les bords du carré $C = [n_{inf},n_{sup}] × [\\eta_{inf},\\eta{sup}]$.\n",
    "\n",
    "Pour simplifier, on suppose que les fonctions η et n sont constantes par morceaux. On discrétise le temps T de la simulation en $Ntcontrol$ sous intervalles, par exemple $Ntcontrol = 6$, et n et η sont constantes sur ces intervalles. Ainsi, une stratégie peut être représentée par un couple de vecteurs de tailles $Ntcontrol$.\n",
    "\n",
    "L'algorithme de recuit simulé comporte deux étapes.\n",
    "\n",
    "Premièrement, on modifie aléatoirement la stratégie courante. Pour ce faire, on prend un intervalle de temps aléatoire et une valeur aléatoire sur le bord du carré C. On remplace la valeurs de $(n,\\eta)$ pour cet intervalle de temps par cette nouvelle valeur.\n",
    "\n",
    "Deuxièmement, on calcule le nombre de morts pour cette nouvelle stratégie. S'il est inférieur à celui obtenu pour la stratégie précédente, on décide de le conserver. S'il est supérieure, on le conserve avec une probabilité $e^{-ΔE/T}$ où $T$ est la \"température\", un paramètre de l'algorithme qui décroit au cours des itérations. Lorsque la température tombe à 0, l'algorithme s'arrête.\n",
    "\n",
    "Le fait d'accepter ainsi avec une certaine probabilité des stratégies augmentant l'énergie (le nombre de morts) permet en fait d'éviter de tomber dans un minimum local."
   ]
  },
  {
   "cell_type": "code",
   "execution_count": 99,
   "metadata": {},
   "outputs": [],
   "source": [
    "import simanneal\n",
    "import numpy as np\n",
    "import random as rd\n",
    "import copy\n",
    "import numpy as np\n",
    "from scipy.ndimage import gaussian_filter\n",
    "from math import *\n",
    "import matplotlib.pyplot as plt"
   ]
  },
  {
   "cell_type": "markdown",
   "metadata": {},
   "source": [
    "On commence par définir les paramètres, puis on redéfinit les fonctions nécessaires au calcul du nombre de mort pour chaque stratégie proposée pendant l'algorithme du recuit simulé."
   ]
  },
  {
   "cell_type": "code",
   "execution_count": 100,
   "metadata": {},
   "outputs": [],
   "source": [
    "# Paramètres\n",
    "\n",
    "N = 30 # nombre de transmissibilités possibles\n",
    "M = 40 # nombre de résistances possibles\n",
    "R0max = 15 # taux de transmission maximal\n",
    "gamma = 0.09 # taux de guérison\n",
    "Beta = R0max * gamma * np.arange(N) / (N - 1) # transmissibilités possibles\n",
    "Omega = np.arange(M) / (M - 1) # résistances possibles\n",
    "mu = 0.02 # taux de mortalité\n",
    "beta_i0 = 0.2 # taux de transmission initial\n",
    "i0 = int(beta_i0 * (N - 1) / (gamma * R0max)) # indice de la transmissibilité initiale\n",
    "j0 = 0 # indice de la résistance initiale\n",
    "sigma = 1 # taux de mutation\n",
    "C = 0.5 # taux de réinfection\n",
    "Xi = np.zeros((N, M, N, M)) # matrice des réinfections\n",
    "for j in range(M):\n",
    "    for l in range(M):\n",
    "        Xi[:, j, :, l] = C * max(Omega[l] - Omega[j], 0) / M\n",
    "\n",
    "#T = 350 # durée de la simulation \n",
    "T = 350\n",
    "dt = 0.1\n",
    "#dt = 1\n",
    "\n",
    "pop = 10**6 # population totale\n",
    "h = 1 / pop\n",
    "\n",
    "# Paramètres du contrôle\n",
    "Nt_control = 6 # Discrétisation en temps du contrôle\n",
    "\n",
    "def psi(x):\n",
    "    if abs(x) < h:\n",
    "        return 0\n",
    "    elif abs(x) > 2 * h:\n",
    "        return x\n",
    "    elif x <= 2 * h  and x >= h:\n",
    "        return -3 * (x**3)/(h**2) + 14 * (x**2) / h - 19 * x + 8 * h\n",
    "    elif x <= -h and x >= -2 * h:\n",
    "        return -3 * (x**3)/(h**2) - 14 * (x**2) / h - 19 * x - 8 * h\n",
    "\n",
    "def Psi(X):\n",
    "    return np.array([psi(e) for e in X.reshape(X.size)]).reshape(X.shape)"
   ]
  },
  {
   "cell_type": "code",
   "execution_count": 101,
   "metadata": {},
   "outputs": [],
   "source": [
    "# Calcul des dérivées\n",
    "\n",
    "def dS(S, I, n, eta):\n",
    "    return -n - eta * np.dot(Beta, I).sum() * S\n",
    "\n",
    "def dV(I, V, n, eta):\n",
    "    return n - eta * Beta@I@Omega * V\n",
    "\n",
    "def dI(S, I, V, R, eta):\n",
    "    return eta * Beta[:, np.newaxis] * I * S \\\n",
    "        + eta * Beta[:, np.newaxis] * Omega * I * V \\\n",
    "        - mu * I - gamma * I \\\n",
    "        + eta * np.tensordot(Xi, R, 2) * I \\\n",
    "        + Psi(gaussian_filter(I, sigma, mode='constant', cval=0) - I)\n",
    "    \n",
    "def dR(I, R, eta):\n",
    "    return gamma * I - eta * np.tensordot(np.transpose(Xi,(2,3,0,1)), R, 2) * I\n",
    "    #return gamma * I - eta * np.tensordot(np.transpose(Xi,(2,3,0,1)), I, 2) * R\n",
    "\n",
    "def dD(I):\n",
    "    return mu * np.sum(I)"
   ]
  },
  {
   "cell_type": "code",
   "execution_count": 102,
   "metadata": {},
   "outputs": [],
   "source": [
    "# Initialisation\n",
    "\n",
    "def initialize():\n",
    "    I0 = np.zeros((N, M)) # matrice des infections initiale\n",
    "    I0[i0, j0] = 200 * 10**-5\n",
    "    R0 = np.zeros((N, M)) # matrice des résistances initiale\n",
    "    R0[i0, j0] = 0.25\n",
    "    S0 = 1 - np.sum(I0) - np.sum(R0)\n",
    "    V0 = 0\n",
    "    D0 = 0\n",
    "\n",
    "\n",
    "    return S0,I0,R0,V0,D0"
   ]
  },
  {
   "cell_type": "code",
   "execution_count": 103,
   "metadata": {},
   "outputs": [],
   "source": [
    "def cost(U_n, U_eta):\n",
    "    \n",
    "    # Initialisation\n",
    "    S,I,R,V,D = initialize()\n",
    "\n",
    "    # Simulation\n",
    "\n",
    "    S_l = np.zeros(int(T/dt))\n",
    "    I_l = np.zeros((int(T/dt), N, M))\n",
    "    R_l = np.zeros((int(T/dt), N, M))\n",
    "    D_l = np.zeros(int(T/dt))\n",
    "    V_l = np.zeros(int(T/dt))\n",
    "\n",
    "    S_l = np.zeros(int(T/dt))\n",
    "    I_l = np.zeros((int(T/dt), N, M))\n",
    "    R_l = np.zeros((int(T/dt), N, M))\n",
    "    D_l = np.zeros(int(T/dt))\n",
    "    V_l = np.zeros(int(T/dt))\n",
    "\n",
    "    for t in range(T):\n",
    "\n",
    "        time_control = int(floor(Nt_control * t / T))\n",
    "        n_t, eta_t = U_n[time_control], U_eta[time_control]\n",
    "\n",
    "        S_l[t] = S\n",
    "        I_l[t] = copy.deepcopy(I)\n",
    "        R_l[t] = copy.deepcopy(R)\n",
    "        D_l[t] = D\n",
    "        V_l[t] = V\n",
    "\n",
    "        val = min(n_t, S * (1 / dt - eta_t * np.sum(I.transpose() @ Beta)))\n",
    "        # Newton\n",
    "        Sp = dS(S, I, val, eta_t)\n",
    "        Vp = dV(I, V, val, eta_t)\n",
    "        Ip = dI(S, I, V, R, eta_t)\n",
    "        Rp = dR(I, R, eta_t)\n",
    "        Dp = dD(I)\n",
    "        \n",
    "        S = S + dt * Sp\n",
    "        V = V + dt * Vp\n",
    "        I = I + dt * Ip\n",
    "        R = R + dt * Rp\n",
    "        D = D + dt * Dp\n",
    "\n",
    "    return D\n",
    "    "
   ]
  },
  {
   "cell_type": "markdown",
   "metadata": {},
   "source": [
    "La solution optimale étant localisée sur le carré, on discrétise celui-ci. On représente les différents couples possibles par un seul vecteur. La fonction indice_to_couple permet d'associer un élément de ce vecteur aux valeurs correspondantes de (n, η)."
   ]
  },
  {
   "cell_type": "code",
   "execution_count": 104,
   "metadata": {},
   "outputs": [],
   "source": [
    "# square discretization\n",
    "\n",
    "N_n = 5 # discrétisation de n\n",
    "N_eta = 5 # discrétisation de eta\n",
    "\n",
    "eta_inf = 1.\n",
    "eta_sup = 1.\n",
    "n_inf = 0.\n",
    "n_sup = 0.006\n",
    "\n",
    "eta_vec = np.linspace(eta_inf, eta_sup, N_eta)\n",
    "n_vec = np.linspace(n_inf, n_sup, N_n)\n",
    "\n",
    "if eta_sup == eta_inf:\n",
    "    N_eta = 0\n",
    "    eta_vec = []\n",
    "\n",
    "if n_inf == n_sup:\n",
    "    N_n = 0\n",
    "    n_vec = []\n",
    "\n",
    "nb_states = 2*(N_n + N_eta - (N_n != 0) - (N_eta != 0)) # On élimine les doublons\n",
    "\n",
    "possible_states = [i for i in range(nb_states)]\n",
    "\n",
    "# On les range dans cet ordre : [n,eta_inf],[nsup,eta], [n,eta_sup],[n_inf,eta]\n",
    "\n",
    "def indice_to_couple(i, N_n, N_eta, eta_vec, n_vec):\n",
    "    if i < N_n:\n",
    "        return n_vec[i], eta_inf\n",
    "    elif i < N_n + N_eta - 1:\n",
    "        return n_sup, eta_vec[i - N_n + 1]\n",
    "    elif i < N_n + N_eta + N_n - 2:\n",
    "        return n_vec[N_n + N_eta + N_n - 3 - i], eta_sup\n",
    "    else:\n",
    "        return n_inf, eta_vec[2*(N_n + N_eta - 2) - i]"
   ]
  },
  {
   "cell_type": "markdown",
   "metadata": {},
   "source": [
    "On définit ensuite la manière de calculer l'énergie pour une stratégie (grâce à la fonction coût présentée plus haut), ainsi que la façon de modifier une stratégie (de manière aléatoire, comme expliqué plus haut)."
   ]
  },
  {
   "cell_type": "code",
   "execution_count": 105,
   "metadata": {},
   "outputs": [],
   "source": [
    "class OptimalVaccineStrategy(simanneal.Annealer):\n",
    "\n",
    "    def move(self):\n",
    "\n",
    "        # Choix d'un point au hasard sur le carré\n",
    "        k = rd.randint(0, nb_states - 1)\n",
    "\n",
    "        # Choix d'un indice temporel pour lequel on va remplace le contrôle par le point précédent\n",
    "        t_rand = rd.randint(0,Nt_control -1)\n",
    "\n",
    "        self.state[t_rand], self.state[t_rand + Nt_control] = indice_to_couple(k, N_n, N_eta, eta_vec, n_vec)\n",
    "    \n",
    "    def energy(self):\n",
    "        \n",
    "        U_n = self.state[:Nt_control]\n",
    "        U_eta = self.state[Nt_control:]\n",
    "\n",
    "        return cost(U_n, U_eta)"
   ]
  },
  {
   "cell_type": "code",
   "execution_count": 106,
   "metadata": {},
   "outputs": [
    {
     "name": "stderr",
     "output_type": "stream",
     "text": [
      " Temperature        Energy    Accept   Improve     Elapsed   Remaining\n",
      "  3613.59943          0.00   100.00%    38.00%     0:20:18     1:16:22"
     ]
    }
   ],
   "source": [
    "initial_state = np.array([n_sup]*Nt_control + [eta_inf]*Nt_control)\n",
    "ovs = OptimalVaccineStrategy(initial_state)\n",
    "ovs.steps = 5000\n",
    "params, nb_deaths = ovs.anneal()\n",
    "\n",
    "n_opt, eta_opt = params[:Nt_control], params[Nt_control:]\n",
    "\n",
    "print(\"Nombre de décès : \", nb_deaths)\n",
    "\n",
    "plt.plot(n_opt)\n",
    "plt.plot(eta_opt)\n",
    "plt.show()"
   ]
  }
 ],
 "metadata": {
  "kernelspec": {
   "display_name": "Python 3",
   "language": "python",
   "name": "python3"
  },
  "language_info": {
   "codemirror_mode": {
    "name": "ipython",
    "version": 3
   },
   "file_extension": ".py",
   "mimetype": "text/x-python",
   "name": "python",
   "nbconvert_exporter": "python",
   "pygments_lexer": "ipython3",
   "version": "3.10.1"
  }
 },
 "nbformat": 4,
 "nbformat_minor": 2
}
